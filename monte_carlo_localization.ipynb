{
  "nbformat": 4,
  "nbformat_minor": 0,
  "metadata": {
    "colab": {
      "name": "MEEN689_Assignment3.ipynb",
      "provenance": [],
      "collapsed_sections": []
    },
    "kernelspec": {
      "name": "python3",
      "display_name": "Python 3"
    }
  },
  "cells": [
    {
      "cell_type": "markdown",
      "metadata": {
        "id": "QvcLcwnAF6w4"
      },
      "source": [
        "## Monte carlo localization for 1D discrete-motion Robot with uncertainities\n",
        "\n",
        "  * Robot moves in one-dimension discrete track that is 100 meters long. \n",
        "  * At each time step the robot position is discrete and can change only by 1 meter. \n",
        "  * The robot moves 1 meter at each time step. \n",
        "    * Because of slip and friction 5% of the time it moves 2 meters, 5% it does not move and 90% it moves 1 meter.\n",
        "    * These values are used in the update kernel as $[move_0, move_1, move_2] = [0.05, 0.9, 0.05]$\n",
        "  * The Robot is equipped with a GPS that measures the location. \n",
        "    * The sensor measures the correct location for 90% of the time and 10% of the time it gives the wrong location.\n",
        "\n",
        "  * The robot starts at the very left (at time=0) (the robot does not know this) and then travels one 1m at each time step for 50 time steps. \n",
        "\n",
        "  To estimate the belief for the robot after $T$ time steps input time in *time_step* and run the *train_filter*."
      ]
    },
    {
      "cell_type": "code",
      "metadata": {
        "colab": {
          "base_uri": "https://localhost:8080/"
        },
        "id": "jzeF06d6z3x0",
        "outputId": "65777afd-8670-49fe-952f-02e91c7cc8ca"
      },
      "source": [
        "%pip install filterpy"
      ],
      "execution_count": null,
      "outputs": [
        {
          "output_type": "stream",
          "text": [
            "Requirement already satisfied: filterpy in /usr/local/lib/python3.7/dist-packages (1.4.5)\n",
            "Requirement already satisfied: scipy in /usr/local/lib/python3.7/dist-packages (from filterpy) (1.4.1)\n",
            "Requirement already satisfied: numpy in /usr/local/lib/python3.7/dist-packages (from filterpy) (1.19.5)\n",
            "Requirement already satisfied: matplotlib in /usr/local/lib/python3.7/dist-packages (from filterpy) (3.2.2)\n",
            "Requirement already satisfied: kiwisolver>=1.0.1 in /usr/local/lib/python3.7/dist-packages (from matplotlib->filterpy) (1.3.1)\n",
            "Requirement already satisfied: cycler>=0.10 in /usr/local/lib/python3.7/dist-packages (from matplotlib->filterpy) (0.10.0)\n",
            "Requirement already satisfied: pyparsing!=2.0.4,!=2.1.2,!=2.1.6,>=2.0.1 in /usr/local/lib/python3.7/dist-packages (from matplotlib->filterpy) (2.4.7)\n",
            "Requirement already satisfied: python-dateutil>=2.1 in /usr/local/lib/python3.7/dist-packages (from matplotlib->filterpy) (2.8.1)\n",
            "Requirement already satisfied: six in /usr/local/lib/python3.7/dist-packages (from cycler>=0.10->matplotlib->filterpy) (1.15.0)\n"
          ],
          "name": "stdout"
        }
      ]
    },
    {
      "cell_type": "code",
      "metadata": {
        "id": "P6_3cGbQ0Z_X"
      },
      "source": [
        "%matplotlib inline\n",
        "\n",
        "from filterpy.discrete_bayes import discrete_bayes, normalize, predict, update\n",
        "import numpy as np\n",
        "import matplotlib.pyplot as plt\n",
        "import random\n",
        "\n",
        "plt.rcParams['figure.figsize'] = [15, 1.5]"
      ],
      "execution_count": null,
      "outputs": []
    },
    {
      "cell_type": "code",
      "metadata": {
        "id": "R02nCgkYqmf1"
      },
      "source": [
        "class Robot(object):\n",
        "    ''' Robot Model '''\n",
        "\n",
        "    def __init__(self, track_length, kernel=[1.], sensor_accuracy=.9):\n",
        "        self.track_len = track_length\n",
        "        self.pos = 0\n",
        "        self.kernel = kernel\n",
        "        self.sensor_accuracy = sensor_accuracy\n",
        "\n",
        "    def move(self, distance=1):\n",
        "        \"\"\" Movement in the specified direction with a chance of error\"\"\"\n",
        "\n",
        "        self.pos += distance\n",
        "        ''' Assigning random movement according to kernel probabilities '''\n",
        "        r = random.random()\n",
        "        s = 0\n",
        "        offset = -(len(self.kernel) - 1) / 2  #Determine the move step (= 1 in this case)\n",
        "        for k in self.kernel:\n",
        "            s += k\n",
        "            if r <= s:\n",
        "                break\n",
        "            offset += 1\n",
        "        self.pos = int((self.pos + offset) % self.track_len)\n",
        "        return self.pos\n",
        "\n",
        "    def sense(self):\n",
        "        ''' Estimation for the GPS '''\n",
        "\n",
        "        pos = self.pos\n",
        "        ''' Randomized sensor error '''\n",
        "        if random.random() > self.sensor_accuracy:\n",
        "            if random.random() > 0.5:\n",
        "                pos += 1\n",
        "            else:\n",
        "                pos -= 1\n",
        "        return pos"
      ],
      "execution_count": null,
      "outputs": []
    },
    {
      "cell_type": "code",
      "metadata": {
        "id": "pbb0ws9-rNc7"
      },
      "source": [
        "def position_likelihood(track, measurement, sensor_accuracy):\n",
        "    \"\"\" Function to compute the likelihood that a measurement matches actual positions \"\"\"\n",
        "    \n",
        "    try:\n",
        "        scale = sensor_accuracy / (1. - sensor_accuracy)\n",
        "    except ZeroDivisionError:\n",
        "        scale = 1e8\n",
        "\n",
        "    likelihood = np.ones(len(track))\n",
        "    likelihood[track==measurement] *= scale\n",
        "    return likelihood\n",
        "\n",
        "def train_filter(iterations, kernel, sensor_accuracy, \n",
        "             move_distance, do_print=True, robot_history=True):\n",
        "  \n",
        "    \"\"\" Path for the Robot \"\"\"\n",
        "    track = np.arange(100)\n",
        "\n",
        "    \"\"\" Prior probability for Robot Position \"\"\"\n",
        "    prior = np.array([sensor_accuracy] + [int((1-sensor_accuracy)/len(track))]*99)\n",
        "    posterior = prior[:]\n",
        "    normalize(prior)\n",
        "    \n",
        "    robot = Robot(len(track), kernel, sensor_accuracy)\n",
        "    for i in range(iterations):\n",
        "        ''' Movement of the robot '''\n",
        "        robot.move(distance=move_distance)\n",
        "\n",
        "        ''' Prediction step '''\n",
        "        prior = predict(posterior, move_distance, kernel)       \n",
        "\n",
        "        '''  Filter update step '''\n",
        "        measurement = robot.sense()\n",
        "        likelihood = position_likelihood(track, measurement, sensor_accuracy)\n",
        "        posterior = update(likelihood, prior)\n",
        "        index = np.argmax(posterior)\n",
        "\n",
        "        if do_print and robot_history:\n",
        "            print(f'time {i}: pos {robot.pos}, sensed {measurement}, at position {track[robot.pos]}')\n",
        "            conf = posterior[index] * 100\n",
        "            print(f'          estimated position is {index} with confidence {conf:.4f}%')\n",
        "\n",
        "    if do_print:\n",
        "        print()\n",
        "        print('''At time {}, final position is {}'''.format(iterations-1, robot.pos))\n",
        "        index = np.argmax(posterior)\n",
        "        print('''Estimated position is {} with confidence {:.4f}%'''.format(index, posterior[index]*100))\n",
        "    \n",
        "    fig = plt.figure()\n",
        "    ax = fig.add_axes([0,0,1,1])\n",
        "    ax.bar(track, posterior)\n",
        "    ax.set_ylabel('beleif')\n",
        "    ax.set_xlabel('Position')\n",
        "    ax.set_title(f'Belief of Robot position at time {i}')\n",
        "    plt.show()\n",
        "\n",
        "    # return posterior\n",
        "\n",
        "    "
      ],
      "execution_count": null,
      "outputs": []
    },
    {
      "cell_type": "code",
      "metadata": {
        "colab": {
          "base_uri": "https://localhost:8080/",
          "height": 913
        },
        "id": "WzfwC07FrTTm",
        "outputId": "34388604-1e55-491e-8e11-8b0d16e0f228"
      },
      "source": [
        "''' Track specifications and Robot specifications '''\n",
        "track = np.arange(0,100)\n",
        "move_0 = 0.05\n",
        "move_1 = 0.9\n",
        "move_2 = 0.05\n",
        "sensor_accuracy = 0.9\n",
        "\n",
        "#Probability of robot movement\n",
        "kernel = [move_0, move_1, move_2]\n",
        "\n",
        "\n",
        "random.seed(1)\n",
        "\n",
        "#Times for estimating Robot movement (time starts at 0 when the Robot is at position 1)\n",
        "time_step = 3\n",
        "train_filter(time_step+1, kernel, sensor_accuracy=.9, move_distance=1, do_print=True, robot_history=False)\n",
        "\n",
        "time_step = 6\n",
        "train_filter(time_step+1, kernel, sensor_accuracy=.9, move_distance=1, do_print=True, robot_history=False)\n",
        "\n",
        "time_step = 10\n",
        "train_filter(time_step+1, kernel, sensor_accuracy=.9, move_distance=1, do_print=True, robot_history=False)\n",
        "\n",
        "time_step = 50\n",
        "train_filter(time_step+1, kernel, sensor_accuracy=.9, move_distance=1, do_print=True, robot_history=False)"
      ],
      "execution_count": null,
      "outputs": [
        {
          "output_type": "stream",
          "text": [
            "\n",
            "At time 3, final position is 4\n",
            "Estimated position is 4 with confidence 98.6221%\n"
          ],
          "name": "stdout"
        },
        {
          "output_type": "display_data",
          "data": {
            "image/png": "[encoded data removed]",
            "text/plain": [
              "<Figure size 1080x108 with 1 Axes>"
            ]
          },
          "metadata": {
            "tags": [],
            "needs_background": "light"
          }
        },
        {
          "output_type": "stream",
          "text": [
            "\n",
            "At time 6, final position is 6\n",
            "Estimated position is 7 with confidence 31.6941%\n"
          ],
          "name": "stdout"
        },
        {
          "output_type": "display_data",
          "data": {
            "image/png": "[encoded data removed]",
            "text/plain": [
              "<Figure size 1080x108 with 1 Axes>"
            ]
          },
          "metadata": {
            "tags": [],
            "needs_background": "light"
          }
        },
        {
          "output_type": "stream",
          "text": [
            "\n",
            "At time 10, final position is 11\n",
            "Estimated position is 11 with confidence 96.4174%\n"
          ],
          "name": "stdout"
        },
        {
          "output_type": "display_data",
          "data": {
            "image/png": "[encoded data removed]",
            "text/plain": [
              "<Figure size 1080x108 with 1 Axes>"
            ]
          },
          "metadata": {
            "tags": [],
            "needs_background": "light"
          }
        },
        {
          "output_type": "stream",
          "text": [
            "\n",
            "At time 50, final position is 48\n",
            "Estimated position is 48 with confidence 98.5906%\n"
          ],
          "name": "stdout"
        },
        {
          "output_type": "display_data",
          "data": {
            "image/png": "[encoded data removed]",
            "text/plain": [
              "<Figure size 1080x108 with 1 Axes>"
            ]
          },
          "metadata": {
            "tags": [],
            "needs_background": "light"
          }
        }
      ]
    },
    {
      "cell_type": "markdown",
      "metadata": {
        "id": "b08tTLa2FNR4"
      },
      "source": [
        "# References\n",
        "\n",
        "* https://github.com/rlabbe/filterpy\n",
        "\n",
        "* https://github.com/rlabbe/Kalman-and-Bayesian-Filters-in-Python\n"
      ]
    }
  ]
}